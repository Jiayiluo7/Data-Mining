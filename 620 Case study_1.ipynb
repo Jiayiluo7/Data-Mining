{
 "cells": [
  {
   "cell_type": "code",
   "execution_count": 1,
   "id": "d54912f2",
   "metadata": {},
   "outputs": [
    {
     "name": "stdout",
     "output_type": "stream",
     "text": [
      "Requirement already satisfied: dmba in ./anaconda3/lib/python3.11/site-packages (0.2.4)\n",
      "Requirement already satisfied: graphviz in ./anaconda3/lib/python3.11/site-packages (from dmba) (0.20.3)\n",
      "Requirement already satisfied: matplotlib in ./anaconda3/lib/python3.11/site-packages (from dmba) (3.7.1)\n",
      "Requirement already satisfied: numpy in ./anaconda3/lib/python3.11/site-packages (from dmba) (1.24.3)\n",
      "Requirement already satisfied: pandas in ./anaconda3/lib/python3.11/site-packages (from dmba) (1.5.3)\n",
      "Requirement already satisfied: scikit-learn in ./anaconda3/lib/python3.11/site-packages (from dmba) (1.3.0)\n",
      "Requirement already satisfied: scipy in ./anaconda3/lib/python3.11/site-packages (from dmba) (1.10.1)\n",
      "Requirement already satisfied: contourpy>=1.0.1 in ./anaconda3/lib/python3.11/site-packages (from matplotlib->dmba) (1.0.5)\n",
      "Requirement already satisfied: cycler>=0.10 in ./anaconda3/lib/python3.11/site-packages (from matplotlib->dmba) (0.11.0)\n",
      "Requirement already satisfied: fonttools>=4.22.0 in ./anaconda3/lib/python3.11/site-packages (from matplotlib->dmba) (4.25.0)\n",
      "Requirement already satisfied: kiwisolver>=1.0.1 in ./anaconda3/lib/python3.11/site-packages (from matplotlib->dmba) (1.4.4)\n",
      "Requirement already satisfied: packaging>=20.0 in ./anaconda3/lib/python3.11/site-packages (from matplotlib->dmba) (23.0)\n",
      "Requirement already satisfied: pillow>=6.2.0 in ./anaconda3/lib/python3.11/site-packages (from matplotlib->dmba) (9.4.0)\n",
      "Requirement already satisfied: pyparsing>=2.3.1 in ./anaconda3/lib/python3.11/site-packages (from matplotlib->dmba) (3.0.9)\n",
      "Requirement already satisfied: python-dateutil>=2.7 in ./anaconda3/lib/python3.11/site-packages (from matplotlib->dmba) (2.8.2)\n",
      "Requirement already satisfied: pytz>=2020.1 in ./anaconda3/lib/python3.11/site-packages (from pandas->dmba) (2022.7)\n",
      "Requirement already satisfied: joblib>=1.1.1 in ./anaconda3/lib/python3.11/site-packages (from scikit-learn->dmba) (1.2.0)\n",
      "Requirement already satisfied: threadpoolctl>=2.0.0 in ./anaconda3/lib/python3.11/site-packages (from scikit-learn->dmba) (2.2.0)\n",
      "Requirement already satisfied: six>=1.5 in ./anaconda3/lib/python3.11/site-packages (from python-dateutil>=2.7->matplotlib->dmba) (1.16.0)\n",
      "no display found. Using non-interactive Agg backend\n"
     ]
    }
   ],
   "source": [
    "from pathlib import Path\n",
    "\n",
    "import pandas as pd\n",
    "import numpy as np\n",
    "\n",
    "from sklearn.model_selection import train_test_split\n",
    "from sklearn.linear_model import LinearRegression\n",
    "from sklearn.metrics import r2_score\n",
    "\n",
    "import statsmodels.formula.api as sm\n",
    "!pip install dmba\n",
    "from dmba import regressionSummary, exhaustive_search\n",
    "from dmba import backward_elimination, forward_selection, stepwise_selection\n",
    "from dmba import adjusted_r2_score, AIC_score, BIC_score\n",
    "\n",
    "import matplotlib.pylab as plt\n",
    "%matplotlib inline"
   ]
  },
  {
   "cell_type": "code",
   "execution_count": 2,
   "id": "30237b1b",
   "metadata": {},
   "outputs": [],
   "source": [
    "boston_df = pd.read_csv('BostonHousing.csv')"
   ]
  },
  {
   "cell_type": "code",
   "execution_count": 3,
   "id": "e29a361f",
   "metadata": {},
   "outputs": [
    {
     "name": "stdout",
     "output_type": "stream",
     "text": [
      "Number of rows and columns in data set: (506, 14)\n"
     ]
    }
   ],
   "source": [
    "print('Number of rows and columns in data set:', \n",
    "    boston_df.shape )"
   ]
  },
  {
   "cell_type": "code",
   "execution_count": 4,
   "id": "a6609e27",
   "metadata": {},
   "outputs": [
    {
     "name": "stdout",
     "output_type": "stream",
     "text": [
      "Original column titles:\n"
     ]
    },
    {
     "data": {
      "text/plain": [
       "Index(['CRIME', 'ZONE', 'INDUST', 'CHAR RIV', 'NIT OXIDE', 'ROOMS', 'AGE',\n",
       "       'DISTANCE', 'RADIAL', 'TAX', 'ST RATIO', 'LOW STAT', 'MVALUE',\n",
       "       'C MVALUE'],\n",
       "      dtype='object')"
      ]
     },
     "execution_count": 4,
     "metadata": {},
     "output_type": "execute_result"
    }
   ],
   "source": [
    "print('Original column titles:')\n",
    "boston_df.columns"
   ]
  },
  {
   "cell_type": "code",
   "execution_count": 5,
   "id": "789708e5",
   "metadata": {},
   "outputs": [
    {
     "name": "stdout",
     "output_type": "stream",
     "text": [
      "Modified column titles with no space and one word for titles:\n"
     ]
    },
    {
     "data": {
      "text/plain": [
       "Index(['CRIME', 'ZONE', 'INDUST', 'CHAR_RIV', 'NIT_OXIDE', 'ROOMS', 'AGE',\n",
       "       'DISTANCE', 'RADIAL', 'TAX', 'ST_RATIO', 'LOW_STAT', 'MVALUE',\n",
       "       'C_MVALUE'],\n",
       "      dtype='object')"
      ]
     },
     "execution_count": 5,
     "metadata": {},
     "output_type": "execute_result"
    }
   ],
   "source": [
    "print('Modified column titles with no space and one word for titles:')\n",
    "boston_df.columns = [s.strip().replace(' ', '_') for s in boston_df.columns]\n",
    "boston_df.columns"
   ]
  },
  {
   "cell_type": "code",
   "execution_count": 6,
   "id": "3eb280ba",
   "metadata": {},
   "outputs": [
    {
     "data": {
      "text/plain": [
       "CRIME        float64\n",
       "ZONE         float64\n",
       "INDUST       float64\n",
       "CHAR_RIV      object\n",
       "NIT_OXIDE    float64\n",
       "ROOMS        float64\n",
       "AGE          float64\n",
       "DISTANCE     float64\n",
       "RADIAL         int64\n",
       "TAX            int64\n",
       "ST_RATIO     float64\n",
       "LOW_STAT     float64\n",
       "MVALUE       float64\n",
       "C_MVALUE      object\n",
       "dtype: object"
      ]
     },
     "execution_count": 6,
     "metadata": {},
     "output_type": "execute_result"
    }
   ],
   "source": [
    "boston_df.dtypes"
   ]
  },
  {
   "cell_type": "code",
   "execution_count": 7,
   "id": "6c5ced34",
   "metadata": {},
   "outputs": [
    {
     "name": "stdout",
     "output_type": "stream",
     "text": [
      "Original CHAR_RIV variable:\n",
      "object\n",
      " \n",
      "Category levels and changed variable type:\n",
      "Index(['N', 'Y'], dtype='object')\n",
      "category\n"
     ]
    }
   ],
   "source": [
    "# The REMODEL column is 'object'; does not have \n",
    "# the 'category' definition.\n",
    "print('Original CHAR_RIV variable:')\n",
    "print(boston_df.CHAR_RIV.dtype)\n",
    "\n",
    "# Need to change REMODEL variable type to 'category'. \n",
    "boston_df.CHAR_RIV = boston_df.CHAR_RIV.astype('category')\n",
    "\n",
    "# Display category levels (classes) and category type.\n",
    "print(' ')\n",
    "print('Category levels and changed variable type:')\n",
    "print(boston_df.CHAR_RIV.cat.categories)  # It can take one of three levels.\n",
    "print(boston_df.CHAR_RIV.dtype)  # Type is now 'category'."
   ]
  },
  {
   "cell_type": "code",
   "execution_count": 8,
   "id": "d991b036",
   "metadata": {},
   "outputs": [
    {
     "name": "stdout",
     "output_type": "stream",
     "text": [
      "Original C_MVALUE variable:\n",
      "object\n",
      " \n",
      "Category levels and changed variable type:\n",
      "Index(['No', 'Yes'], dtype='object')\n",
      "category\n"
     ]
    }
   ],
   "source": [
    "# The REMODEL column is 'object'; does not have \n",
    "# the 'category' definition.\n",
    "print('Original C_MVALUE variable:')\n",
    "print(boston_df.C_MVALUE.dtype)\n",
    "\n",
    "# Need to change REMODEL variable type to 'category'. \n",
    "boston_df.C_MVALUE = boston_df.C_MVALUE.astype('category')\n",
    "\n",
    "# Display category levels (classes) and category type.\n",
    "print(' ')\n",
    "print('Category levels and changed variable type:')\n",
    "print(boston_df.C_MVALUE.cat.categories)  # It can take one of three levels.\n",
    "print(boston_df.C_MVALUE.dtype)  # Type is now 'category'."
   ]
  },
  {
   "cell_type": "code",
   "execution_count": 9,
   "id": "c30edaab",
   "metadata": {},
   "outputs": [
    {
     "data": {
      "text/plain": [
       "Index(['CRIME', 'ZONE', 'INDUST', 'NIT_OXIDE', 'ROOMS', 'AGE', 'DISTANCE',\n",
       "       'RADIAL', 'TAX', 'ST_RATIO', 'LOW_STAT', 'MVALUE', 'CHAR_RIV_Y',\n",
       "       'C_MVALUE_Yes'],\n",
       "      dtype='object')"
      ]
     },
     "execution_count": 9,
     "metadata": {},
     "output_type": "execute_result"
    }
   ],
   "source": [
    "boston_df_reg = pd.get_dummies(boston_df, prefix_sep='_', \n",
    "                            drop_first=True)\n",
    "boston_df_reg.columns"
   ]
  },
  {
   "cell_type": "code",
   "execution_count": 10,
   "id": "3261994f",
   "metadata": {},
   "outputs": [
    {
     "data": {
      "text/html": [
       "<div>\n",
       "<style scoped>\n",
       "    .dataframe tbody tr th:only-of-type {\n",
       "        vertical-align: middle;\n",
       "    }\n",
       "\n",
       "    .dataframe tbody tr th {\n",
       "        vertical-align: top;\n",
       "    }\n",
       "\n",
       "    .dataframe thead th {\n",
       "        text-align: right;\n",
       "    }\n",
       "</style>\n",
       "<table border=\"1\" class=\"dataframe\">\n",
       "  <thead>\n",
       "    <tr style=\"text-align: right;\">\n",
       "      <th></th>\n",
       "      <th>CRIME</th>\n",
       "      <th>ZONE</th>\n",
       "      <th>INDUST</th>\n",
       "      <th>NIT_OXIDE</th>\n",
       "      <th>ROOMS</th>\n",
       "      <th>AGE</th>\n",
       "      <th>DISTANCE</th>\n",
       "      <th>RADIAL</th>\n",
       "      <th>TAX</th>\n",
       "      <th>ST_RATIO</th>\n",
       "      <th>LOW_STAT</th>\n",
       "      <th>MVALUE</th>\n",
       "      <th>CHAR_RIV_Y</th>\n",
       "      <th>C_MVALUE_Yes</th>\n",
       "    </tr>\n",
       "  </thead>\n",
       "  <tbody>\n",
       "    <tr>\n",
       "      <th>count</th>\n",
       "      <td>506.00</td>\n",
       "      <td>506.00</td>\n",
       "      <td>506.00</td>\n",
       "      <td>506.00</td>\n",
       "      <td>506.00</td>\n",
       "      <td>506.00</td>\n",
       "      <td>506.00</td>\n",
       "      <td>506.00</td>\n",
       "      <td>506.00</td>\n",
       "      <td>506.00</td>\n",
       "      <td>506.00</td>\n",
       "      <td>506.00</td>\n",
       "      <td>506.00</td>\n",
       "      <td>506.00</td>\n",
       "    </tr>\n",
       "    <tr>\n",
       "      <th>mean</th>\n",
       "      <td>3.61</td>\n",
       "      <td>11.36</td>\n",
       "      <td>11.14</td>\n",
       "      <td>0.55</td>\n",
       "      <td>6.28</td>\n",
       "      <td>68.57</td>\n",
       "      <td>3.80</td>\n",
       "      <td>9.55</td>\n",
       "      <td>408.24</td>\n",
       "      <td>18.46</td>\n",
       "      <td>12.65</td>\n",
       "      <td>22.53</td>\n",
       "      <td>0.07</td>\n",
       "      <td>0.17</td>\n",
       "    </tr>\n",
       "    <tr>\n",
       "      <th>std</th>\n",
       "      <td>8.60</td>\n",
       "      <td>23.32</td>\n",
       "      <td>6.86</td>\n",
       "      <td>0.12</td>\n",
       "      <td>0.70</td>\n",
       "      <td>28.15</td>\n",
       "      <td>2.11</td>\n",
       "      <td>8.71</td>\n",
       "      <td>168.54</td>\n",
       "      <td>2.16</td>\n",
       "      <td>7.14</td>\n",
       "      <td>9.20</td>\n",
       "      <td>0.25</td>\n",
       "      <td>0.37</td>\n",
       "    </tr>\n",
       "    <tr>\n",
       "      <th>min</th>\n",
       "      <td>0.01</td>\n",
       "      <td>0.00</td>\n",
       "      <td>0.46</td>\n",
       "      <td>0.38</td>\n",
       "      <td>3.56</td>\n",
       "      <td>2.90</td>\n",
       "      <td>1.13</td>\n",
       "      <td>1.00</td>\n",
       "      <td>187.00</td>\n",
       "      <td>12.60</td>\n",
       "      <td>1.73</td>\n",
       "      <td>5.00</td>\n",
       "      <td>0.00</td>\n",
       "      <td>0.00</td>\n",
       "    </tr>\n",
       "    <tr>\n",
       "      <th>25%</th>\n",
       "      <td>0.08</td>\n",
       "      <td>0.00</td>\n",
       "      <td>5.19</td>\n",
       "      <td>0.45</td>\n",
       "      <td>5.89</td>\n",
       "      <td>45.02</td>\n",
       "      <td>2.10</td>\n",
       "      <td>4.00</td>\n",
       "      <td>279.00</td>\n",
       "      <td>17.40</td>\n",
       "      <td>6.95</td>\n",
       "      <td>17.02</td>\n",
       "      <td>0.00</td>\n",
       "      <td>0.00</td>\n",
       "    </tr>\n",
       "    <tr>\n",
       "      <th>50%</th>\n",
       "      <td>0.26</td>\n",
       "      <td>0.00</td>\n",
       "      <td>9.69</td>\n",
       "      <td>0.54</td>\n",
       "      <td>6.21</td>\n",
       "      <td>77.50</td>\n",
       "      <td>3.21</td>\n",
       "      <td>5.00</td>\n",
       "      <td>330.00</td>\n",
       "      <td>19.05</td>\n",
       "      <td>11.36</td>\n",
       "      <td>21.20</td>\n",
       "      <td>0.00</td>\n",
       "      <td>0.00</td>\n",
       "    </tr>\n",
       "    <tr>\n",
       "      <th>75%</th>\n",
       "      <td>3.68</td>\n",
       "      <td>12.50</td>\n",
       "      <td>18.10</td>\n",
       "      <td>0.62</td>\n",
       "      <td>6.62</td>\n",
       "      <td>94.07</td>\n",
       "      <td>5.19</td>\n",
       "      <td>24.00</td>\n",
       "      <td>666.00</td>\n",
       "      <td>20.20</td>\n",
       "      <td>16.96</td>\n",
       "      <td>25.00</td>\n",
       "      <td>0.00</td>\n",
       "      <td>0.00</td>\n",
       "    </tr>\n",
       "    <tr>\n",
       "      <th>max</th>\n",
       "      <td>88.98</td>\n",
       "      <td>100.00</td>\n",
       "      <td>27.74</td>\n",
       "      <td>0.87</td>\n",
       "      <td>8.78</td>\n",
       "      <td>100.00</td>\n",
       "      <td>12.13</td>\n",
       "      <td>24.00</td>\n",
       "      <td>711.00</td>\n",
       "      <td>22.00</td>\n",
       "      <td>37.97</td>\n",
       "      <td>50.00</td>\n",
       "      <td>1.00</td>\n",
       "      <td>1.00</td>\n",
       "    </tr>\n",
       "  </tbody>\n",
       "</table>\n",
       "</div>"
      ],
      "text/plain": [
       "        CRIME    ZONE  INDUST  NIT_OXIDE   ROOMS     AGE  DISTANCE  RADIAL  \\\n",
       "count  506.00  506.00  506.00     506.00  506.00  506.00    506.00  506.00   \n",
       "mean     3.61   11.36   11.14       0.55    6.28   68.57      3.80    9.55   \n",
       "std      8.60   23.32    6.86       0.12    0.70   28.15      2.11    8.71   \n",
       "min      0.01    0.00    0.46       0.38    3.56    2.90      1.13    1.00   \n",
       "25%      0.08    0.00    5.19       0.45    5.89   45.02      2.10    4.00   \n",
       "50%      0.26    0.00    9.69       0.54    6.21   77.50      3.21    5.00   \n",
       "75%      3.68   12.50   18.10       0.62    6.62   94.07      5.19   24.00   \n",
       "max     88.98  100.00   27.74       0.87    8.78  100.00     12.13   24.00   \n",
       "\n",
       "          TAX  ST_RATIO  LOW_STAT  MVALUE  CHAR_RIV_Y  C_MVALUE_Yes  \n",
       "count  506.00    506.00    506.00  506.00      506.00        506.00  \n",
       "mean   408.24     18.46     12.65   22.53        0.07          0.17  \n",
       "std    168.54      2.16      7.14    9.20        0.25          0.37  \n",
       "min    187.00     12.60      1.73    5.00        0.00          0.00  \n",
       "25%    279.00     17.40      6.95   17.02        0.00          0.00  \n",
       "50%    330.00     19.05     11.36   21.20        0.00          0.00  \n",
       "75%    666.00     20.20     16.96   25.00        0.00          0.00  \n",
       "max    711.00     22.00     37.97   50.00        1.00          1.00  "
      ]
     },
     "execution_count": 10,
     "metadata": {},
     "output_type": "execute_result"
    }
   ],
   "source": [
    "np.round(boston_df_reg.describe(), decimals=2)"
   ]
  },
  {
   "cell_type": "code",
   "execution_count": 11,
   "id": "369ce4cb",
   "metadata": {},
   "outputs": [
    {
     "name": "stdout",
     "output_type": "stream",
     "text": [
      "\n",
      "Missing records in columns:\n",
      "CRIME        0\n",
      "ZONE         0\n",
      "INDUST       0\n",
      "CHAR_RIV     0\n",
      "NIT_OXIDE    0\n",
      "ROOMS        0\n",
      "AGE          0\n",
      "DISTANCE     0\n",
      "RADIAL       0\n",
      "TAX          0\n",
      "ST_RATIO     0\n",
      "LOW_STAT     0\n",
      "MVALUE       0\n",
      "C_MVALUE     0\n",
      "dtype: int64\n"
     ]
    }
   ],
   "source": [
    "# Check for missing records (values) in the columns\n",
    "missing_records = boston_df.isnull().sum()\n",
    "print(\"\\nMissing records in columns:\")\n",
    "print(missing_records)"
   ]
  },
  {
   "cell_type": "code",
   "execution_count": 16,
   "id": "b15050e6",
   "metadata": {},
   "outputs": [
    {
     "name": "stdout",
     "output_type": "stream",
     "text": [
      "Regression Model for BostonHousing Training Set\n",
      "\n",
      "Intercept:  48.62\n",
      "       Predictor  Coefficient\n",
      "0          CRIME        -0.15\n",
      "1           ZONE        -0.01\n",
      "2         INDUST         0.13\n",
      "3      NIT_OXIDE       -17.86\n",
      "4          ROOMS         0.33\n",
      "5            AGE        -0.01\n",
      "6       DISTANCE        -0.66\n",
      "7         RADIAL         0.22\n",
      "8            TAX        -0.01\n",
      "9       ST_RATIO        -0.63\n",
      "10      LOW_STAT        -0.47\n",
      "11    CHAR_RIV_Y         2.33\n",
      "12  C_MVALUE_Yes        12.13\n"
     ]
    }
   ],
   "source": [
    "# Identify predictors and outcome of the regression model.\n",
    "predictors = ['CRIME', 'ZONE', 'INDUST', 'NIT_OXIDE', 'ROOMS', 'AGE', 'DISTANCE',\n",
    "       'RADIAL', 'TAX', 'ST_RATIO', 'LOW_STAT', 'CHAR_RIV_Y',\n",
    "       'C_MVALUE_Yes']\n",
    "outcome = 'MVALUE'\n",
    "\n",
    "# Identify X and y variables for regression and partition data\n",
    "# using 70% of records for training and 30% for validation \n",
    "# (test_size=0.3). \n",
    "X = boston_df_reg[predictors]\n",
    "y = boston_df_reg[outcome]\n",
    "train_X, valid_X, train_y, valid_y = train_test_split(X, y, test_size=0.3, random_state=1)\n",
    "\n",
    "# Create multiple linear regression model using X and y\n",
    "# and LinearRegression() function from sklearn (skikit-learn) \n",
    "# library.\n",
    "boston_lm = LinearRegression()\n",
    "boston_lm.fit(train_X, train_y)\n",
    "\n",
    "# Display intercept and regression coefficients. Round\n",
    "# them to 2 decimals.\n",
    "print('Regression Model for BostonHousing Training Set')\n",
    "print()\n",
    "print('Intercept: ', np.round(boston_lm.intercept_, 2)) # coefficient Bo\n",
    "print(pd.DataFrame({'Predictor': X.columns, 'Coefficient': np.round(boston_lm.coef_, 2)}))"
   ]
  },
  {
   "cell_type": "code",
   "execution_count": 17,
   "id": "ba2719e9",
   "metadata": {},
   "outputs": [
    {
     "name": "stdout",
     "output_type": "stream",
     "text": [
      "Actual, Prediction, and Residual Prices for Validation Set\n",
      "     Actual  Predicted  Residual\n",
      "307    28.2      24.63      3.57\n",
      "343    23.9      22.03      1.87\n",
      "47     16.6      17.97     -1.37\n",
      "67     22.0      22.20     -0.20\n",
      "362    20.8      19.42      1.38\n",
      "132    23.0      19.32      3.68\n",
      "292    27.9      24.68      3.22\n",
      "31     14.5      17.73     -3.23\n",
      "218    21.5      22.69     -1.19\n",
      "90     22.6      23.09     -0.49\n"
     ]
    }
   ],
   "source": [
    "# Use predict() to score (make) predictions for validation set.\n",
    "boston_lm_pred = boston_lm.predict(valid_X)\n",
    "\n",
    "# Develop and display data frame with actual values of Price,\n",
    "# scoring (predicted) results, and residuals.\n",
    "# Use round() function to round vlaues in data frame to \n",
    "# 2 decimals. \n",
    "print('Actual, Prediction, and Residual Prices for Validation Set')\n",
    "result = round(pd.DataFrame({'Actual': valid_y,'Predicted': boston_lm_pred, \n",
    "                       'Residual': valid_y - boston_lm_pred}), 2)\n",
    "print(result.head(10))"
   ]
  },
  {
   "cell_type": "code",
   "execution_count": 18,
   "id": "ef17030c",
   "metadata": {},
   "outputs": [
    {
     "name": "stdout",
     "output_type": "stream",
     "text": [
      "Prediction Performance Measures for Training Set\n",
      "r2 :  0.83\n",
      "Adjusted r2 :  0.824\n",
      "AIC :  1963.68\n",
      "BIC :  2021.72\n",
      "\n",
      "Prediction Performance Measures for Validation Set\n",
      "r2 :  0.852\n",
      "adjusted r2 :  0.838\n",
      "AIC :  858.0\n",
      "BIC :  903.36\n"
     ]
    }
   ],
   "source": [
    "# Use predict() function to make predictions for\n",
    "# training set.\n",
    "pred_y = boston_lm.predict(train_X)\n",
    "\n",
    "# Create prediction performance measures for training set.\n",
    "r2 = round(r2_score(train_y, pred_y),3)\n",
    "adj_r2 = round(adjusted_r2_score(train_y, pred_y, boston_lm),3)\n",
    "aic = round(AIC_score(train_y, pred_y, boston_lm),2)\n",
    "bic = round(BIC_score(train_y, pred_y, boston_lm),2)\n",
    "\n",
    "# Display prediction performance measures for training set.\n",
    "print('Prediction Performance Measures for Training Set')\n",
    "print('r2 : ', r2)\n",
    "print('Adjusted r2 : ', adj_r2)\n",
    "print('AIC : ', aic)\n",
    "print('BIC : ', bic)\n",
    "print() \n",
    "\n",
    "# Create prediction performance measures for validation set.\n",
    "r2 = round(r2_score(valid_y, boston_lm_pred),3)\n",
    "adj_r2 = round(adjusted_r2_score(valid_y, boston_lm_pred, boston_lm),3)\n",
    "aic = round(AIC_score(valid_y, boston_lm_pred, boston_lm),2)\n",
    "bic = round(BIC_score(valid_y, boston_lm_pred, boston_lm),2)\n",
    "\n",
    "# Display prediction performance measures for validation set.\n",
    "print('Prediction Performance Measures for Validation Set')\n",
    "print('r2 : ', r2)\n",
    "print('adjusted r2 : ', adj_r2)\n",
    "print('AIC : ', aic)\n",
    "print('BIC : ', bic)"
   ]
  },
  {
   "cell_type": "code",
   "execution_count": 19,
   "id": "88a907ce",
   "metadata": {},
   "outputs": [
    {
     "name": "stdout",
     "output_type": "stream",
     "text": [
      "Accuracy Measures for Training Set - All Variables\n",
      "\n",
      "Regression statistics\n",
      "\n",
      "                      Mean Error (ME) : 0.0000\n",
      "       Root Mean Squared Error (RMSE) : 3.7145\n",
      "            Mean Absolute Error (MAE) : 2.6931\n",
      "          Mean Percentage Error (MPE) : -2.7567\n",
      "Mean Absolute Percentage Error (MAPE) : 13.2197\n",
      "\n",
      "Accuracy Measures for Validation Set - All Variables\n",
      "\n",
      "Regression statistics\n",
      "\n",
      "                      Mean Error (ME) : 0.3667\n",
      "       Root Mean Squared Error (RMSE) : 3.6868\n",
      "            Mean Absolute Error (MAE) : 2.7428\n",
      "          Mean Percentage Error (MPE) : -2.9628\n",
      "Mean Absolute Percentage Error (MAPE) : 13.9356\n"
     ]
    }
   ],
   "source": [
    "# Display common accuracy measures for training set.\n",
    "print('Accuracy Measures for Training Set - All Variables')\n",
    "regressionSummary(train_y, pred_y)\n",
    "print()\n",
    "\n",
    "# Display common accuracy measures for validation set.\n",
    "print('Accuracy Measures for Validation Set - All Variables')\n",
    "regressionSummary(valid_y, boston_lm_pred)"
   ]
  },
  {
   "cell_type": "code",
   "execution_count": 21,
   "id": "789c7d49",
   "metadata": {},
   "outputs": [
    {
     "name": "stdout",
     "output_type": "stream",
     "text": [
      "     n     r2adj          AIC    AGE  CHAR_RIV_Y  CRIME  C_MVALUE_Yes  DISTANCE  INDUST  LOW_STAT  \\\n",
      "0    1  0.615757  2227.470343  False       False  False          True     False   False     False   \n",
      "1    2  0.784502  2023.736517  False       False  False          True     False   False      True   \n",
      "2    3  0.793737  2009.222342  False       False   True          True     False   False      True   \n",
      "3    4  0.800829  1997.822810  False        True   True          True     False   False      True   \n",
      "4    5  0.804618  1992.008003  False       False  False          True      True   False      True   \n",
      "5    6  0.811403  1980.477479  False        True  False          True      True   False      True   \n",
      "6    7  0.816868  1971.047129  False        True   True          True      True   False      True   \n",
      "7    8  0.822139  1961.682655  False        True   True          True      True   False      True   \n",
      "8    9  0.822845  1961.248007  False        True   True          True      True    True      True   \n",
      "9   10  0.824545  1958.803262  False        True   True          True      True    True      True   \n",
      "10  11  0.824282  1960.300013  False        True   True          True      True    True      True   \n",
      "11  12  0.823903  1962.027384  False        True   True          True      True    True      True   \n",
      "12  13  0.823556  1963.683649   True        True   True          True      True    True      True   \n",
      "\n",
      "    NIT_OXIDE  RADIAL  ROOMS  ST_RATIO    TAX   ZONE  \n",
      "0       False   False  False     False  False  False  \n",
      "1       False   False  False     False  False  False  \n",
      "2       False   False  False     False  False  False  \n",
      "3       False   False  False     False  False  False  \n",
      "4        True   False  False      True  False  False  \n",
      "5        True   False  False      True  False  False  \n",
      "6        True   False  False      True  False  False  \n",
      "7        True    True  False      True  False  False  \n",
      "8        True    True  False      True  False  False  \n",
      "9        True    True  False      True   True  False  \n",
      "10       True    True   True      True   True  False  \n",
      "11       True    True   True      True   True   True  \n",
      "12       True    True   True      True   True   True  \n"
     ]
    }
   ],
   "source": [
    "# Define train_model() function used in Executive Search\n",
    "# algorithm with executive_search() function. \n",
    "def train_model(variables):\n",
    "    model = LinearRegression()\n",
    "    model.fit(train_X[variables], train_y)\n",
    "    return model\n",
    "\n",
    "# Define score_model() function used in Executive Search\n",
    "# algorithm with executive_search() function. \n",
    "def score_model(model, variables):\n",
    "    pred_y = model.predict(train_X[variables])\n",
    "    # Apply negative sign as score is optimized to be \n",
    "    # as low as possible in exhaustive_search() function.\n",
    "    return -adjusted_r2_score(train_y, pred_y, model)\n",
    "\n",
    "# Create allVariables object with predcitors in train_X,\n",
    "allVariables = train_X.columns\n",
    "\n",
    "# The exhaustive_search() function :\n",
    "results = exhaustive_search(allVariables, train_model, score_model)\n",
    "\n",
    "# Create data[] loop process to identify and append the best model \n",
    "data = []\n",
    "for result in results:\n",
    "    model = result['model']\n",
    "    variables = result['variables']\n",
    "    AIC = AIC_score(train_y, model.predict(train_X[variables]), model)\n",
    "    d = {'n': result['n'], 'r2adj': -result['score'], 'AIC': AIC}\n",
    "    d.update({var: var in result['variables'] for var in allVariables})\n",
    "    data.append(d)\n",
    "\n",
    "# Define the width of output presentation to be wider\n",
    "pd.set_option('display.width', 100)\n",
    "\n",
    "# Display the Exhaustive Search results.\n",
    "print(pd.DataFrame(data, columns=('n', 'r2adj', 'AIC') + tuple(sorted(allVariables))))\n",
    "\n",
    "# Reset the output width to the default. \n",
    "pd.reset_option('display.width')"
   ]
  },
  {
   "cell_type": "code",
   "execution_count": 22,
   "id": "66ced1b1",
   "metadata": {},
   "outputs": [
    {
     "name": "stdout",
     "output_type": "stream",
     "text": [
      "Regression Model for Training Set Using Exhaustive Search\n",
      "\n",
      "Intercept  50.9\n",
      "       Predictor  Coefficient\n",
      "0          CRIME        -0.15\n",
      "1           ZONE        -0.01\n",
      "2         INDUST         0.13\n",
      "3      NIT_OXIDE       -18.45\n",
      "4       DISTANCE        -0.64\n",
      "5         RADIAL         0.22\n",
      "6            TAX        -0.01\n",
      "7       ST_RATIO        -0.65\n",
      "8       LOW_STAT        -0.49\n",
      "9     CHAR_RIV_Y         2.35\n",
      "10  C_MVALUE_Yes        12.30\n"
     ]
    }
   ],
   "source": [
    "# Develop the multiple linear regression model based\n",
    "# on the Exhaustive Search results.\n",
    "\n",
    "# Identify predictors and outcome of the regression model.\n",
    "predictors_ex = ['CRIME', 'ZONE', 'INDUST', 'NIT_OXIDE',  'DISTANCE',\n",
    "       'RADIAL', 'TAX', 'ST_RATIO', 'LOW_STAT', 'CHAR_RIV_Y',\n",
    "       'C_MVALUE_Yes']\n",
    "outcome = 'MVALUE'\n",
    "\n",
    "# Identify X and y variables for regression and partition data\n",
    "X = boston_df_reg[predictors_ex]\n",
    "y = boston_df_reg[outcome]\n",
    "train_X_ex, valid_X_ex, train_y_ex, valid_y_ex = \\\n",
    "          train_test_split(X, y, test_size=0.3, random_state=1)\n",
    "\n",
    "# Create multiple linear regression model using X and y.\n",
    "boston_ex = LinearRegression()\n",
    "boston_ex.fit(train_X_ex, train_y_ex)\n",
    "\n",
    "# Display intercept and regression coefficients. Round them\n",
    "# to 2 decimals.\n",
    "print('Regression Model for Training Set Using Exhaustive Search')\n",
    "print()\n",
    "print('Intercept ', np.round(boston_ex.intercept_, 2))\n",
    "print(pd.DataFrame({'Predictor': X.columns,\n",
    "            'Coefficient': np.round(boston_ex.coef_, 2)}))"
   ]
  },
  {
   "cell_type": "code",
   "execution_count": 24,
   "id": "be5caa98",
   "metadata": {},
   "outputs": [
    {
     "name": "stdout",
     "output_type": "stream",
     "text": [
      "\n",
      "Prediction for Validation Set Using Exhaustive Search\n",
      "     Actual  Predicted  Residual\n",
      "307    28.2      24.59      3.61\n",
      "343    23.9      22.02      1.88\n",
      "47     16.6      18.09     -1.49\n",
      "67     22.0      22.18     -0.18\n",
      "362    20.8      19.82      0.98\n",
      "132    23.0      19.32      3.68\n",
      "292    27.9      24.54      3.36\n",
      "31     14.5      17.92     -3.42\n",
      "218    21.5      22.82     -1.32\n",
      "90     22.6      23.06     -0.46\n",
      "\n",
      "Accuracy Measures for Validation Set Using Exhaustive Search\n",
      "\n",
      "Regression statistics\n",
      "\n",
      "                      Mean Error (ME) : 0.3931\n",
      "       Root Mean Squared Error (RMSE) : 3.7376\n",
      "            Mean Absolute Error (MAE) : 2.7717\n",
      "          Mean Percentage Error (MPE) : -2.8476\n",
      "Mean Absolute Percentage Error (MAPE) : 14.0064\n"
     ]
    }
   ],
   "source": [
    "# Use predict() function to score (make) predictions \n",
    "# for validation set and measure their accuracy using\n",
    "# Exhaustive Search algorithm.\n",
    "boston_ex_pred = boston_ex.predict(valid_X_ex)\n",
    "\n",
    "# Develop and display data frame with actual values of Price,\n",
    "# scoring (predicted) results, and residuals.\n",
    "# Use round() function to round vlaues in data frame to \n",
    "# 2 decimals. \n",
    "result = round(pd.DataFrame({'Actual': valid_y_ex,'Predicted': boston_ex_pred, \n",
    "                       'Residual': valid_y_ex - boston_ex_pred}), 2)\n",
    "print()\n",
    "print('Prediction for Validation Set Using Exhaustive Search') \n",
    "print(result.head(10))\n",
    "\n",
    "# Display common accuracy measures for validation set.\n",
    "print()\n",
    "print('Accuracy Measures for Validation Set Using Exhaustive Search')\n",
    "regressionSummary(valid_y_ex, boston_ex_pred)"
   ]
  },
  {
   "cell_type": "code",
   "execution_count": 25,
   "id": "be91a4a5",
   "metadata": {},
   "outputs": [
    {
     "name": "stdout",
     "output_type": "stream",
     "text": [
      "Variables: CRIME, ZONE, INDUST, NIT_OXIDE, ROOMS, AGE, DISTANCE, RADIAL, TAX, ST_RATIO, LOW_STAT, CHAR_RIV_Y, C_MVALUE_Yes\n",
      "Start: score=1963.68\n",
      "Step: score=1962.03, remove AGE\n",
      "Step: score=1960.30, remove ZONE\n",
      "Step: score=1958.80, remove ROOMS\n",
      "Step: score=1958.80, remove None\n",
      "\n",
      "Best Variables from Backward Elimination Algorithm\n",
      "['CRIME', 'INDUST', 'NIT_OXIDE', 'DISTANCE', 'RADIAL', 'TAX', 'ST_RATIO', 'LOW_STAT', 'CHAR_RIV_Y', 'C_MVALUE_Yes']\n"
     ]
    }
   ],
   "source": [
    "# Define train_model() function used in Backward Elimination\n",
    "# algorithm with backward_elimination() function. \n",
    "def train_model(variables):\n",
    "    model = LinearRegression()\n",
    "    model.fit(train_X[variables], train_y)\n",
    "    return model\n",
    "\n",
    "# Define score_model() function used in Backward Elimination\n",
    "# algorithm with backward_elimination() function. \n",
    "def score_model(model, variables):\n",
    "    return AIC_score(train_y, model.predict(train_X[variables]), model)\n",
    "\n",
    "# Use backward_elimination() function to identify the\n",
    "# best_model and best_variables. \n",
    "best_model_be, best_variables_be = backward_elimination(train_X.columns, \n",
    "                        train_model, score_model, verbose=True)\n",
    "\n",
    "# Display best variables based on Backward Elimination algorithm. \n",
    "print()\n",
    "print('Best Variables from Backward Elimination Algorithm')\n",
    "print(best_variables_be)"
   ]
  },
  {
   "cell_type": "code",
   "execution_count": 27,
   "id": "ba9c8f4e",
   "metadata": {},
   "outputs": [
    {
     "name": "stdout",
     "output_type": "stream",
     "text": [
      "Regression Model for Training Set Using Backward Elimination\n",
      "\n",
      "Intercept  50.82\n",
      "      Predictor  Coefficient\n",
      "0         CRIME        -0.15\n",
      "1        INDUST         0.13\n",
      "2     NIT_OXIDE       -18.39\n",
      "3      DISTANCE        -0.69\n",
      "4        RADIAL         0.23\n",
      "5           TAX        -0.01\n",
      "6      ST_RATIO        -0.63\n",
      "7      LOW_STAT        -0.49\n",
      "8    CHAR_RIV_Y         2.34\n",
      "9  C_MVALUE_Yes        12.19\n"
     ]
    }
   ],
   "source": [
    "# Develop the multiple linear regression model based\n",
    "# on the Backward Elimination results.\n",
    "\n",
    "# Identify predictors and outcome of the regression model.\n",
    "predictors_be = ['CRIME', 'INDUST', 'NIT_OXIDE', 'DISTANCE', \n",
    "                 'RADIAL', 'TAX', 'ST_RATIO', 'LOW_STAT', 'CHAR_RIV_Y', 'C_MVALUE_Yes']\n",
    "outcome = 'MVALUE'\n",
    "\n",
    "# Identify X and y variables for regression and partition data\n",
    "# using 60% of records for training and 40% for validation \n",
    "# (test_size=0.4). \n",
    "X = boston_df_reg[predictors_be]\n",
    "y = boston_df_reg[outcome]\n",
    "train_X_be, valid_X_be, train_y_be, valid_y_be = \\\n",
    "          train_test_split(X, y, test_size=0.3, random_state=1)\n",
    "\n",
    "# Create multiple linear regression model using X and y.\n",
    "boston_be = LinearRegression()\n",
    "boston_be.fit(train_X_be, train_y_be)\n",
    "\n",
    "# Display intercept and regression coefficients. Round them\n",
    "# to 2 decimals.\n",
    "print('Regression Model for Training Set Using Backward Elimination')\n",
    "print()\n",
    "print('Intercept ', np.round(boston_be.intercept_, 2))\n",
    "print(pd.DataFrame({'Predictor': X.columns,\n",
    "            'Coefficient': np.round(boston_be.coef_, 2)}))"
   ]
  },
  {
   "cell_type": "code",
   "execution_count": 28,
   "id": "efbaaaaf",
   "metadata": {},
   "outputs": [
    {
     "name": "stdout",
     "output_type": "stream",
     "text": [
      "\n",
      "Predictions for Validation Set Using Backward Elimination\n",
      "     Actual  Predicted  Residual\n",
      "307    28.2      24.89      3.31\n",
      "343    23.9      22.22      1.68\n",
      "47     16.6      17.95     -1.35\n",
      "67     22.0      22.06     -0.06\n",
      "362    20.8      19.87      0.93\n",
      "132    23.0      19.39      3.61\n",
      "292    27.9      25.07      2.83\n",
      "31     14.5      17.91     -3.41\n",
      "218    21.5      22.81     -1.31\n",
      "90     22.6      23.04     -0.44\n",
      "\n",
      "Accuracy Measures for Validation Set Using Backward Elimination\n",
      "\n",
      "Regression statistics\n",
      "\n",
      "                      Mean Error (ME) : 0.3854\n",
      "       Root Mean Squared Error (RMSE) : 3.7318\n",
      "            Mean Absolute Error (MAE) : 2.7591\n",
      "          Mean Percentage Error (MPE) : -2.8698\n",
      "Mean Absolute Percentage Error (MAPE) : 13.9371\n"
     ]
    }
   ],
   "source": [
    "# Use predict() to score predictions for validation set in\n",
    "# regression model based Backward Elimination algorithm.\n",
    "boston_be_pred = boston_be.predict(valid_X_be)\n",
    "\n",
    "# Develop and display data frame with actual values of Price,\n",
    "# scoring (predicted) results, and residuals.\n",
    "# Use round() function to round vlaues in data frame to \n",
    "# 2 decimals. \n",
    "result = round(pd.DataFrame({'Actual': valid_y_be,'Predicted': boston_be_pred, \n",
    "                       'Residual': valid_y_be - boston_be_pred}), 2)\n",
    "print()\n",
    "print('Predictions for Validation Set Using Backward Elimination')\n",
    "print(result.head(10))\n",
    "\n",
    "# Display common accuracy measures for validation set.\n",
    "print()\n",
    "print('Accuracy Measures for Validation Set Using Backward Elimination')\n",
    "regressionSummary(valid_y_be, boston_be_pred)"
   ]
  },
  {
   "cell_type": "code",
   "execution_count": 29,
   "id": "95ff8475",
   "metadata": {},
   "outputs": [
    {
     "name": "stdout",
     "output_type": "stream",
     "text": [
      "Accuracy Measures for Training Set - All Variables\n",
      "\n",
      "Regression statistics\n",
      "\n",
      "                      Mean Error (ME) : 0.0000\n",
      "       Root Mean Squared Error (RMSE) : 3.7145\n",
      "            Mean Absolute Error (MAE) : 2.6931\n",
      "          Mean Percentage Error (MPE) : -2.7567\n",
      "Mean Absolute Percentage Error (MAPE) : 13.2197\n",
      "\n",
      "Accuracy Measures for Validation Set - All Variables\n",
      "\n",
      "Regression statistics\n",
      "\n",
      "                      Mean Error (ME) : 0.3667\n",
      "       Root Mean Squared Error (RMSE) : 3.6868\n",
      "            Mean Absolute Error (MAE) : 2.7428\n",
      "          Mean Percentage Error (MPE) : -2.9628\n",
      "Mean Absolute Percentage Error (MAPE) : 13.9356\n",
      "\n",
      "Accuracy Measures for Validation Set Using Exhaustive Search\n",
      "\n",
      "Regression statistics\n",
      "\n",
      "                      Mean Error (ME) : 0.3931\n",
      "       Root Mean Squared Error (RMSE) : 3.7376\n",
      "            Mean Absolute Error (MAE) : 2.7717\n",
      "          Mean Percentage Error (MPE) : -2.8476\n",
      "Mean Absolute Percentage Error (MAPE) : 14.0064\n",
      "\n",
      "Accuracy Measures for Validation Set Using Backward Elimination\n",
      "\n",
      "Regression statistics\n",
      "\n",
      "                      Mean Error (ME) : 0.3854\n",
      "       Root Mean Squared Error (RMSE) : 3.7318\n",
      "            Mean Absolute Error (MAE) : 2.7591\n",
      "          Mean Percentage Error (MPE) : -2.8698\n",
      "Mean Absolute Percentage Error (MAPE) : 13.9371\n"
     ]
    }
   ],
   "source": [
    "# Display common accuracy measures for training set.\n",
    "print('Accuracy Measures for Training Set - All Variables')\n",
    "regressionSummary(train_y, pred_y)\n",
    "print()\n",
    "\n",
    "# Display common accuracy measures for validation set.\n",
    "print('Accuracy Measures for Validation Set - All Variables')\n",
    "regressionSummary(valid_y, boston_lm_pred)\n",
    "\n",
    "# Display common accuracy measures for validation set.\n",
    "print()\n",
    "print('Accuracy Measures for Validation Set Using Exhaustive Search')\n",
    "regressionSummary(valid_y_ex, boston_ex_pred)\n",
    "\n",
    "print()\n",
    "print('Accuracy Measures for Validation Set Using Backward Elimination')\n",
    "regressionSummary(valid_y_be, boston_be_pred)"
   ]
  },
  {
   "cell_type": "code",
   "execution_count": null,
   "id": "a307cc19",
   "metadata": {},
   "outputs": [],
   "source": []
  }
 ],
 "metadata": {
  "kernelspec": {
   "display_name": "Python 3 (ipykernel)",
   "language": "python",
   "name": "python3"
  },
  "language_info": {
   "codemirror_mode": {
    "name": "ipython",
    "version": 3
   },
   "file_extension": ".py",
   "mimetype": "text/x-python",
   "name": "python",
   "nbconvert_exporter": "python",
   "pygments_lexer": "ipython3",
   "version": "3.11.4"
  }
 },
 "nbformat": 4,
 "nbformat_minor": 5
}
